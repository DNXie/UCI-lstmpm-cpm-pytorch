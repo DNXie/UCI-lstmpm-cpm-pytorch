{
 "cells": [
  {
   "cell_type": "code",
   "execution_count": 7,
   "metadata": {},
   "outputs": [],
   "source": [
    "%matplotlib inline\n",
    "import matplotlib.pyplot as plt\n",
    "import json\n",
    "import numpy as np"
   ]
  },
  {
   "cell_type": "code",
   "execution_count": 8,
   "metadata": {},
   "outputs": [],
   "source": [
    "with open('/home/danningx/code/8-15/train_history2.json') as f:\n",
    "    data = json.load(f)"
   ]
  },
  {
   "cell_type": "code",
   "execution_count": 9,
   "metadata": {},
   "outputs": [
    {
     "data": {
      "text/plain": [
       "[<matplotlib.lines.Line2D at 0x7fc19406ae10>,\n",
       " <matplotlib.lines.Line2D at 0x7fc193ff52d0>,\n",
       " <matplotlib.lines.Line2D at 0x7fc193ff5710>,\n",
       " <matplotlib.lines.Line2D at 0x7fc193ff5b10>]"
      ]
     },
     "execution_count": 9,
     "metadata": {},
     "output_type": "execute_result"
    },
    {
     "data": {
      "image/png": "[encoded data removed]",
      "text/plain": [
       "<Figure size 432x288 with 1 Axes>"
      ]
     },
     "metadata": {},
     "output_type": "display_data"
    }
   ],
   "source": [
    "plt.plot(data[u'train1'],'red', data[u'train2'],'green',data[u'train3'],'b',data[u'train4'],'y')"
   ]
  },
  {
   "cell_type": "code",
   "execution_count": 10,
   "metadata": {
    "scrolled": true
   },
   "outputs": [
    {
     "data": {
      "text/plain": [
       "[<matplotlib.lines.Line2D at 0x7fc193f72310>]"
      ]
     },
     "execution_count": 10,
     "metadata": {},
     "output_type": "execute_result"
    },
    {
     "data": {
      "image/png": "[encoded data removed]",
      "text/plain": [
       "<Figure size 432x288 with 1 Axes>"
      ]
     },
     "metadata": {},
     "output_type": "display_data"
    }
   ],
   "source": [
    "plt.plot(data[u'train'])"
   ]
  },
  {
   "cell_type": "code",
   "execution_count": 11,
   "metadata": {},
   "outputs": [
    {
     "data": {
      "text/plain": [
       "69"
      ]
     },
     "execution_count": 11,
     "metadata": {},
     "output_type": "execute_result"
    }
   ],
   "source": [
    "len(data[u'lr'])"
   ]
  },
  {
   "cell_type": "code",
   "execution_count": 12,
   "metadata": {},
   "outputs": [
    {
     "data": {
      "text/plain": [
       "[8e-06,\n",
       " 8e-06,\n",
       " 8e-06,\n",
       " 8e-06,\n",
       " 8e-06,\n",
       " 8e-06,\n",
       " 8e-06,\n",
       " 8e-06,\n",
       " 8e-06,\n",
       " 8e-06,\n",
       " 8e-06,\n",
       " 8e-06,\n",
       " 8e-06,\n",
       " 8e-06,\n",
       " 8e-06,\n",
       " 8e-06,\n",
       " 8e-06,\n",
       " 8e-06,\n",
       " 8e-06,\n",
       " 8e-06,\n",
       " 8e-06,\n",
       " 8e-06,\n",
       " 8e-06,\n",
       " 8e-06,\n",
       " 8e-06,\n",
       " 8e-06,\n",
       " 8e-06,\n",
       " 8e-06,\n",
       " 8e-06,\n",
       " 8e-06,\n",
       " 8e-06,\n",
       " 8e-06,\n",
       " 8e-06,\n",
       " 8e-06,\n",
       " 8e-06,\n",
       " 8e-06,\n",
       " 8e-06,\n",
       " 8e-06,\n",
       " 8e-06,\n",
       " 8e-06,\n",
       " 8e-06,\n",
       " 8e-06,\n",
       " 8e-06,\n",
       " 8e-06,\n",
       " 8e-06,\n",
       " 8e-06,\n",
       " 8e-06,\n",
       " 8e-06,\n",
       " 8e-06,\n",
       " 8e-06,\n",
       " 8e-06,\n",
       " 8e-06,\n",
       " 8e-06,\n",
       " 8e-06,\n",
       " 8e-06,\n",
       " 8e-06,\n",
       " 8e-06,\n",
       " 8e-06,\n",
       " 8e-06,\n",
       " 8e-06,\n",
       " 8e-06,\n",
       " 8e-06,\n",
       " 8e-06,\n",
       " 8e-06,\n",
       " 8e-06,\n",
       " 8e-06,\n",
       " 8e-06,\n",
       " 8e-06,\n",
       " 8e-06]"
      ]
     },
     "execution_count": 12,
     "metadata": {},
     "output_type": "execute_result"
    }
   ],
   "source": [
    "data[u'lr']"
   ]
  },
  {
   "cell_type": "code",
   "execution_count": null,
   "metadata": {},
   "outputs": [],
   "source": []
  },
  {
   "cell_type": "code",
   "execution_count": null,
   "metadata": {},
   "outputs": [],
   "source": []
  },
  {
   "cell_type": "code",
   "execution_count": null,
   "metadata": {},
   "outputs": [],
   "source": []
  },
  {
   "cell_type": "code",
   "execution_count": null,
   "metadata": {},
   "outputs": [],
   "source": []
  }
 ],
 "metadata": {
  "kernelspec": {
   "display_name": "handpose-py2(myenv)",
   "language": "python",
   "name": "handpose-py2"
  },
  "language_info": {
   "codemirror_mode": {
    "name": "ipython",
    "version": 2
   },
   "file_extension": ".py",
   "mimetype": "text/x-python",
   "name": "python",
   "nbconvert_exporter": "python",
   "pygments_lexer": "ipython2",
   "version": "2.7.15"
  }
 },
 "nbformat": 4,
 "nbformat_minor": 2
}
